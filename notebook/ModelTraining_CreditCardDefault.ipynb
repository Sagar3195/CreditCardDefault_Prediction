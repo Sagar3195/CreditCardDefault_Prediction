{
  "cells": [
    {
      "cell_type": "code",
      "execution_count": 1,
      "metadata": {
        "id": "rqsgic7f1rmD"
      },
      "outputs": [],
      "source": [
        "#Importing required libraries\n",
        "import numpy as np\n",
        "import pandas as pd\n",
        "import seaborn as sns\n",
        "import matplotlib.pyplot as plt\n",
        "from sklearn.linear_model import LogisticRegression\n",
        "from sklearn.neighbors import KNeighborsClassifier\n",
        "from sklearn.svm import SVC\n",
        "from sklearn.tree import DecisionTreeClassifier\n",
        "from sklearn.ensemble import RandomForestClassifier,AdaBoostClassifier\n",
        "from xgboost import XGBClassifier\n",
        "from sklearn.preprocessing import StandardScaler \n",
        "from sklearn.model_selection import GridSearchCV, RandomizedSearchCV\n",
        "from sklearn.metrics import accuracy_score, confusion_matrix, classification_report\n",
        "import warnings\n",
        "warnings.filterwarnings('ignore')"
      ]
    },
    {
      "cell_type": "code",
      "execution_count": 2,
      "metadata": {
        "id": "07-eZewc8v1D"
      },
      "outputs": [],
      "source": [
        "#Loading dataset\n",
        "df = pd.read_csv(\"dataset/Cleaned_CreditCard_data.csv\")"
      ]
    },
    {
      "cell_type": "code",
      "execution_count": 3,
      "metadata": {
        "colab": {
          "base_uri": "https://localhost:8080/",
          "height": 206
        },
        "id": "_zi85w-I8v4Y",
        "outputId": "0937b293-c5d5-45d1-8567-d640fac9d4f2"
      },
      "outputs": [
        {
          "data": {
            "text/html": [
              "<div>\n",
              "<style scoped>\n",
              "    .dataframe tbody tr th:only-of-type {\n",
              "        vertical-align: middle;\n",
              "    }\n",
              "\n",
              "    .dataframe tbody tr th {\n",
              "        vertical-align: top;\n",
              "    }\n",
              "\n",
              "    .dataframe thead th {\n",
              "        text-align: right;\n",
              "    }\n",
              "</style>\n",
              "<table border=\"1\" class=\"dataframe\">\n",
              "  <thead>\n",
              "    <tr style=\"text-align: right;\">\n",
              "      <th></th>\n",
              "      <th>LIMIT_BAL</th>\n",
              "      <th>SEX</th>\n",
              "      <th>EDUCATION</th>\n",
              "      <th>MARRIAGE</th>\n",
              "      <th>AGE</th>\n",
              "      <th>PAY_1</th>\n",
              "      <th>BILL_AMT1</th>\n",
              "      <th>PAY_AMT1</th>\n",
              "      <th>PAY_AMT2</th>\n",
              "      <th>PAY_AMT3</th>\n",
              "      <th>PAY_AMT4</th>\n",
              "      <th>PAY_AMT5</th>\n",
              "      <th>PAY_AMT6</th>\n",
              "      <th>Payment</th>\n",
              "    </tr>\n",
              "  </thead>\n",
              "  <tbody>\n",
              "    <tr>\n",
              "      <th>0</th>\n",
              "      <td>20000.0</td>\n",
              "      <td>2</td>\n",
              "      <td>2</td>\n",
              "      <td>1</td>\n",
              "      <td>24</td>\n",
              "      <td>2</td>\n",
              "      <td>3913.0</td>\n",
              "      <td>0.0</td>\n",
              "      <td>689.0</td>\n",
              "      <td>0.0</td>\n",
              "      <td>0.0</td>\n",
              "      <td>0.0</td>\n",
              "      <td>0.0</td>\n",
              "      <td>1</td>\n",
              "    </tr>\n",
              "    <tr>\n",
              "      <th>1</th>\n",
              "      <td>120000.0</td>\n",
              "      <td>2</td>\n",
              "      <td>2</td>\n",
              "      <td>2</td>\n",
              "      <td>26</td>\n",
              "      <td>-1</td>\n",
              "      <td>2682.0</td>\n",
              "      <td>0.0</td>\n",
              "      <td>1000.0</td>\n",
              "      <td>1000.0</td>\n",
              "      <td>1000.0</td>\n",
              "      <td>0.0</td>\n",
              "      <td>2000.0</td>\n",
              "      <td>1</td>\n",
              "    </tr>\n",
              "    <tr>\n",
              "      <th>2</th>\n",
              "      <td>90000.0</td>\n",
              "      <td>2</td>\n",
              "      <td>2</td>\n",
              "      <td>2</td>\n",
              "      <td>34</td>\n",
              "      <td>0</td>\n",
              "      <td>29239.0</td>\n",
              "      <td>1518.0</td>\n",
              "      <td>1500.0</td>\n",
              "      <td>1000.0</td>\n",
              "      <td>1000.0</td>\n",
              "      <td>1000.0</td>\n",
              "      <td>5000.0</td>\n",
              "      <td>0</td>\n",
              "    </tr>\n",
              "    <tr>\n",
              "      <th>3</th>\n",
              "      <td>50000.0</td>\n",
              "      <td>2</td>\n",
              "      <td>2</td>\n",
              "      <td>1</td>\n",
              "      <td>37</td>\n",
              "      <td>0</td>\n",
              "      <td>46990.0</td>\n",
              "      <td>2000.0</td>\n",
              "      <td>2019.0</td>\n",
              "      <td>1200.0</td>\n",
              "      <td>1100.0</td>\n",
              "      <td>1069.0</td>\n",
              "      <td>1000.0</td>\n",
              "      <td>0</td>\n",
              "    </tr>\n",
              "    <tr>\n",
              "      <th>4</th>\n",
              "      <td>50000.0</td>\n",
              "      <td>1</td>\n",
              "      <td>2</td>\n",
              "      <td>1</td>\n",
              "      <td>57</td>\n",
              "      <td>-1</td>\n",
              "      <td>8617.0</td>\n",
              "      <td>2000.0</td>\n",
              "      <td>36681.0</td>\n",
              "      <td>10000.0</td>\n",
              "      <td>9000.0</td>\n",
              "      <td>689.0</td>\n",
              "      <td>679.0</td>\n",
              "      <td>0</td>\n",
              "    </tr>\n",
              "  </tbody>\n",
              "</table>\n",
              "</div>"
            ],
            "text/plain": [
              "   LIMIT_BAL  SEX  EDUCATION  MARRIAGE  AGE  PAY_1  BILL_AMT1  PAY_AMT1  \\\n",
              "0    20000.0    2          2         1   24      2     3913.0       0.0   \n",
              "1   120000.0    2          2         2   26     -1     2682.0       0.0   \n",
              "2    90000.0    2          2         2   34      0    29239.0    1518.0   \n",
              "3    50000.0    2          2         1   37      0    46990.0    2000.0   \n",
              "4    50000.0    1          2         1   57     -1     8617.0    2000.0   \n",
              "\n",
              "   PAY_AMT2  PAY_AMT3  PAY_AMT4  PAY_AMT5  PAY_AMT6  Payment  \n",
              "0     689.0       0.0       0.0       0.0       0.0        1  \n",
              "1    1000.0    1000.0    1000.0       0.0    2000.0        1  \n",
              "2    1500.0    1000.0    1000.0    1000.0    5000.0        0  \n",
              "3    2019.0    1200.0    1100.0    1069.0    1000.0        0  \n",
              "4   36681.0   10000.0    9000.0     689.0     679.0        0  "
            ]
          },
          "execution_count": 3,
          "metadata": {},
          "output_type": "execute_result"
        }
      ],
      "source": [
        "#top 5 records of dataset\n",
        "df.head()"
      ]
    },
    {
      "cell_type": "code",
      "execution_count": 4,
      "metadata": {
        "colab": {
          "base_uri": "https://localhost:8080/"
        },
        "id": "uWyAMBE_8v7F",
        "outputId": "18b5b51c-4ed7-49fb-c7cc-99b4dd3f8035"
      },
      "outputs": [
        {
          "data": {
            "text/plain": [
              "(30000, 14)"
            ]
          },
          "execution_count": 4,
          "metadata": {},
          "output_type": "execute_result"
        }
      ],
      "source": [
        "#Shape of dataset\n",
        "df.shape"
      ]
    },
    {
      "cell_type": "code",
      "execution_count": 5,
      "metadata": {
        "colab": {
          "base_uri": "https://localhost:8080/"
        },
        "id": "cyJxUzlI8v-k",
        "outputId": "91b51026-0050-49af-c275-a42f8b30e6a2"
      },
      "outputs": [
        {
          "data": {
            "text/plain": [
              "35"
            ]
          },
          "execution_count": 5,
          "metadata": {},
          "output_type": "execute_result"
        }
      ],
      "source": [
        "#Checking duplicated values in dataset\n",
        "df.duplicated().sum()"
      ]
    },
    {
      "cell_type": "code",
      "execution_count": 6,
      "metadata": {},
      "outputs": [],
      "source": [
        "##Dropping duplicated values from dataset\n",
        "df.drop_duplicates(inplace=True)"
      ]
    },
    {
      "cell_type": "code",
      "execution_count": 7,
      "metadata": {},
      "outputs": [
        {
          "data": {
            "text/plain": [
              "0"
            ]
          },
          "execution_count": 7,
          "metadata": {},
          "output_type": "execute_result"
        }
      ],
      "source": [
        "df.duplicated().sum()"
      ]
    },
    {
      "cell_type": "code",
      "execution_count": 8,
      "metadata": {
        "colab": {
          "base_uri": "https://localhost:8080/"
        },
        "id": "KaLAqIGv8wAx",
        "outputId": "549ee759-0e34-42ab-d5ae-a34ce2c6d7cd"
      },
      "outputs": [
        {
          "data": {
            "text/plain": [
              "LIMIT_BAL    0\n",
              "SEX          0\n",
              "EDUCATION    0\n",
              "MARRIAGE     0\n",
              "AGE          0\n",
              "PAY_1        0\n",
              "BILL_AMT1    0\n",
              "PAY_AMT1     0\n",
              "PAY_AMT2     0\n",
              "PAY_AMT3     0\n",
              "PAY_AMT4     0\n",
              "PAY_AMT5     0\n",
              "PAY_AMT6     0\n",
              "Payment      0\n",
              "dtype: int64"
            ]
          },
          "execution_count": 8,
          "metadata": {},
          "output_type": "execute_result"
        }
      ],
      "source": [
        "#Checking missing values in dataset\n",
        "df.isnull().sum()"
      ]
    },
    {
      "cell_type": "code",
      "execution_count": 9,
      "metadata": {
        "id": "eJmWFc0F8wCt"
      },
      "outputs": [],
      "source": [
        "#There is no  missing values in dataset"
      ]
    },
    {
      "cell_type": "code",
      "execution_count": null,
      "metadata": {},
      "outputs": [],
      "source": []
    },
    {
      "cell_type": "code",
      "execution_count": 10,
      "metadata": {
        "colab": {
          "base_uri": "https://localhost:8080/"
        },
        "id": "ILNjTjGH8wFi",
        "outputId": "87263cc0-e988-4a20-8fc7-e78e9bb90c72"
      },
      "outputs": [
        {
          "data": {
            "text/plain": [
              "Index(['LIMIT_BAL', 'SEX', 'EDUCATION', 'MARRIAGE', 'AGE', 'PAY_1',\n",
              "       'BILL_AMT1', 'PAY_AMT1', 'PAY_AMT2', 'PAY_AMT3', 'PAY_AMT4', 'PAY_AMT5',\n",
              "       'PAY_AMT6', 'Payment'],\n",
              "      dtype='object')"
            ]
          },
          "execution_count": 10,
          "metadata": {},
          "output_type": "execute_result"
        }
      ],
      "source": [
        "#Columns of dataset\n",
        "df.columns"
      ]
    },
    {
      "cell_type": "code",
      "execution_count": 12,
      "metadata": {
        "colab": {
          "base_uri": "https://localhost:8080/",
          "height": 206
        },
        "id": "MfNbjopz8wRQ",
        "outputId": "7a3449ae-88db-4435-b305-5d272b690d0d"
      },
      "outputs": [
        {
          "data": {
            "text/html": [
              "<div>\n",
              "<style scoped>\n",
              "    .dataframe tbody tr th:only-of-type {\n",
              "        vertical-align: middle;\n",
              "    }\n",
              "\n",
              "    .dataframe tbody tr th {\n",
              "        vertical-align: top;\n",
              "    }\n",
              "\n",
              "    .dataframe thead th {\n",
              "        text-align: right;\n",
              "    }\n",
              "</style>\n",
              "<table border=\"1\" class=\"dataframe\">\n",
              "  <thead>\n",
              "    <tr style=\"text-align: right;\">\n",
              "      <th></th>\n",
              "      <th>LIMIT_BAL</th>\n",
              "      <th>SEX</th>\n",
              "      <th>EDUCATION</th>\n",
              "      <th>MARRIAGE</th>\n",
              "      <th>AGE</th>\n",
              "      <th>PAY_1</th>\n",
              "      <th>BILL_AMT1</th>\n",
              "      <th>PAY_AMT1</th>\n",
              "      <th>PAY_AMT2</th>\n",
              "      <th>PAY_AMT3</th>\n",
              "      <th>PAY_AMT4</th>\n",
              "      <th>PAY_AMT5</th>\n",
              "      <th>PAY_AMT6</th>\n",
              "      <th>Payment</th>\n",
              "    </tr>\n",
              "  </thead>\n",
              "  <tbody>\n",
              "    <tr>\n",
              "      <th>0</th>\n",
              "      <td>20000.0</td>\n",
              "      <td>2</td>\n",
              "      <td>2</td>\n",
              "      <td>1</td>\n",
              "      <td>24</td>\n",
              "      <td>2</td>\n",
              "      <td>3913.0</td>\n",
              "      <td>0.0</td>\n",
              "      <td>689.0</td>\n",
              "      <td>0.0</td>\n",
              "      <td>0.0</td>\n",
              "      <td>0.0</td>\n",
              "      <td>0.0</td>\n",
              "      <td>1</td>\n",
              "    </tr>\n",
              "    <tr>\n",
              "      <th>1</th>\n",
              "      <td>120000.0</td>\n",
              "      <td>2</td>\n",
              "      <td>2</td>\n",
              "      <td>2</td>\n",
              "      <td>26</td>\n",
              "      <td>-1</td>\n",
              "      <td>2682.0</td>\n",
              "      <td>0.0</td>\n",
              "      <td>1000.0</td>\n",
              "      <td>1000.0</td>\n",
              "      <td>1000.0</td>\n",
              "      <td>0.0</td>\n",
              "      <td>2000.0</td>\n",
              "      <td>1</td>\n",
              "    </tr>\n",
              "    <tr>\n",
              "      <th>2</th>\n",
              "      <td>90000.0</td>\n",
              "      <td>2</td>\n",
              "      <td>2</td>\n",
              "      <td>2</td>\n",
              "      <td>34</td>\n",
              "      <td>0</td>\n",
              "      <td>29239.0</td>\n",
              "      <td>1518.0</td>\n",
              "      <td>1500.0</td>\n",
              "      <td>1000.0</td>\n",
              "      <td>1000.0</td>\n",
              "      <td>1000.0</td>\n",
              "      <td>5000.0</td>\n",
              "      <td>0</td>\n",
              "    </tr>\n",
              "    <tr>\n",
              "      <th>3</th>\n",
              "      <td>50000.0</td>\n",
              "      <td>2</td>\n",
              "      <td>2</td>\n",
              "      <td>1</td>\n",
              "      <td>37</td>\n",
              "      <td>0</td>\n",
              "      <td>46990.0</td>\n",
              "      <td>2000.0</td>\n",
              "      <td>2019.0</td>\n",
              "      <td>1200.0</td>\n",
              "      <td>1100.0</td>\n",
              "      <td>1069.0</td>\n",
              "      <td>1000.0</td>\n",
              "      <td>0</td>\n",
              "    </tr>\n",
              "    <tr>\n",
              "      <th>4</th>\n",
              "      <td>50000.0</td>\n",
              "      <td>1</td>\n",
              "      <td>2</td>\n",
              "      <td>1</td>\n",
              "      <td>57</td>\n",
              "      <td>-1</td>\n",
              "      <td>8617.0</td>\n",
              "      <td>2000.0</td>\n",
              "      <td>36681.0</td>\n",
              "      <td>10000.0</td>\n",
              "      <td>9000.0</td>\n",
              "      <td>689.0</td>\n",
              "      <td>679.0</td>\n",
              "      <td>0</td>\n",
              "    </tr>\n",
              "  </tbody>\n",
              "</table>\n",
              "</div>"
            ],
            "text/plain": [
              "   LIMIT_BAL  SEX  EDUCATION  MARRIAGE  AGE  PAY_1  BILL_AMT1  PAY_AMT1  \\\n",
              "0    20000.0    2          2         1   24      2     3913.0       0.0   \n",
              "1   120000.0    2          2         2   26     -1     2682.0       0.0   \n",
              "2    90000.0    2          2         2   34      0    29239.0    1518.0   \n",
              "3    50000.0    2          2         1   37      0    46990.0    2000.0   \n",
              "4    50000.0    1          2         1   57     -1     8617.0    2000.0   \n",
              "\n",
              "   PAY_AMT2  PAY_AMT3  PAY_AMT4  PAY_AMT5  PAY_AMT6  Payment  \n",
              "0     689.0       0.0       0.0       0.0       0.0        1  \n",
              "1    1000.0    1000.0    1000.0       0.0    2000.0        1  \n",
              "2    1500.0    1000.0    1000.0    1000.0    5000.0        0  \n",
              "3    2019.0    1200.0    1100.0    1069.0    1000.0        0  \n",
              "4   36681.0   10000.0    9000.0     689.0     679.0        0  "
            ]
          },
          "execution_count": 12,
          "metadata": {},
          "output_type": "execute_result"
        }
      ],
      "source": [
        "df.head()"
      ]
    },
    {
      "cell_type": "code",
      "execution_count": 13,
      "metadata": {
        "colab": {
          "base_uri": "https://localhost:8080/"
        },
        "id": "Iylqu0GQE50z",
        "outputId": "3e700a92-506a-4db3-e6fd-ee6e473c15d3"
      },
      "outputs": [
        {
          "data": {
            "text/plain": [
              "(29965, 14)"
            ]
          },
          "execution_count": 13,
          "metadata": {},
          "output_type": "execute_result"
        }
      ],
      "source": [
        "df.shape"
      ]
    },
    {
      "cell_type": "code",
      "execution_count": 14,
      "metadata": {
        "colab": {
          "base_uri": "https://localhost:8080/"
        },
        "id": "uSbfFVgZ8wTj",
        "outputId": "552416b4-9115-4821-db2d-9983c1c4842e"
      },
      "outputs": [
        {
          "data": {
            "text/plain": [
              "Payment\n",
              "0    0.778742\n",
              "1    0.221258\n",
              "Name: proportion, dtype: float64"
            ]
          },
          "execution_count": 14,
          "metadata": {},
          "output_type": "execute_result"
        }
      ],
      "source": [
        "df['Payment'].value_counts(normalize= True)"
      ]
    },
    {
      "cell_type": "code",
      "execution_count": 15,
      "metadata": {
        "id": "clZ_IE_J8wVs"
      },
      "outputs": [],
      "source": [
        "#The dataset is imbalaned."
      ]
    },
    {
      "cell_type": "code",
      "execution_count": 17,
      "metadata": {
        "id": "PSLBgBaqCXMp"
      },
      "outputs": [],
      "source": [
        "#Independent variable and dependent variable \n",
        "X = df.drop(\"Payment\", axis= 1)\n",
        "y = df['Payment']"
      ]
    },
    {
      "cell_type": "code",
      "execution_count": 18,
      "metadata": {
        "colab": {
          "base_uri": "https://localhost:8080/",
          "height": 206
        },
        "id": "lrJr9XR_CioU",
        "outputId": "f7abcee7-118b-40d7-e22c-8b972696624a"
      },
      "outputs": [
        {
          "data": {
            "text/html": [
              "<div>\n",
              "<style scoped>\n",
              "    .dataframe tbody tr th:only-of-type {\n",
              "        vertical-align: middle;\n",
              "    }\n",
              "\n",
              "    .dataframe tbody tr th {\n",
              "        vertical-align: top;\n",
              "    }\n",
              "\n",
              "    .dataframe thead th {\n",
              "        text-align: right;\n",
              "    }\n",
              "</style>\n",
              "<table border=\"1\" class=\"dataframe\">\n",
              "  <thead>\n",
              "    <tr style=\"text-align: right;\">\n",
              "      <th></th>\n",
              "      <th>LIMIT_BAL</th>\n",
              "      <th>SEX</th>\n",
              "      <th>EDUCATION</th>\n",
              "      <th>MARRIAGE</th>\n",
              "      <th>AGE</th>\n",
              "      <th>PAY_1</th>\n",
              "      <th>BILL_AMT1</th>\n",
              "      <th>PAY_AMT1</th>\n",
              "      <th>PAY_AMT2</th>\n",
              "      <th>PAY_AMT3</th>\n",
              "      <th>PAY_AMT4</th>\n",
              "      <th>PAY_AMT5</th>\n",
              "      <th>PAY_AMT6</th>\n",
              "    </tr>\n",
              "  </thead>\n",
              "  <tbody>\n",
              "    <tr>\n",
              "      <th>0</th>\n",
              "      <td>20000.0</td>\n",
              "      <td>2</td>\n",
              "      <td>2</td>\n",
              "      <td>1</td>\n",
              "      <td>24</td>\n",
              "      <td>2</td>\n",
              "      <td>3913.0</td>\n",
              "      <td>0.0</td>\n",
              "      <td>689.0</td>\n",
              "      <td>0.0</td>\n",
              "      <td>0.0</td>\n",
              "      <td>0.0</td>\n",
              "      <td>0.0</td>\n",
              "    </tr>\n",
              "    <tr>\n",
              "      <th>1</th>\n",
              "      <td>120000.0</td>\n",
              "      <td>2</td>\n",
              "      <td>2</td>\n",
              "      <td>2</td>\n",
              "      <td>26</td>\n",
              "      <td>-1</td>\n",
              "      <td>2682.0</td>\n",
              "      <td>0.0</td>\n",
              "      <td>1000.0</td>\n",
              "      <td>1000.0</td>\n",
              "      <td>1000.0</td>\n",
              "      <td>0.0</td>\n",
              "      <td>2000.0</td>\n",
              "    </tr>\n",
              "    <tr>\n",
              "      <th>2</th>\n",
              "      <td>90000.0</td>\n",
              "      <td>2</td>\n",
              "      <td>2</td>\n",
              "      <td>2</td>\n",
              "      <td>34</td>\n",
              "      <td>0</td>\n",
              "      <td>29239.0</td>\n",
              "      <td>1518.0</td>\n",
              "      <td>1500.0</td>\n",
              "      <td>1000.0</td>\n",
              "      <td>1000.0</td>\n",
              "      <td>1000.0</td>\n",
              "      <td>5000.0</td>\n",
              "    </tr>\n",
              "    <tr>\n",
              "      <th>3</th>\n",
              "      <td>50000.0</td>\n",
              "      <td>2</td>\n",
              "      <td>2</td>\n",
              "      <td>1</td>\n",
              "      <td>37</td>\n",
              "      <td>0</td>\n",
              "      <td>46990.0</td>\n",
              "      <td>2000.0</td>\n",
              "      <td>2019.0</td>\n",
              "      <td>1200.0</td>\n",
              "      <td>1100.0</td>\n",
              "      <td>1069.0</td>\n",
              "      <td>1000.0</td>\n",
              "    </tr>\n",
              "    <tr>\n",
              "      <th>4</th>\n",
              "      <td>50000.0</td>\n",
              "      <td>1</td>\n",
              "      <td>2</td>\n",
              "      <td>1</td>\n",
              "      <td>57</td>\n",
              "      <td>-1</td>\n",
              "      <td>8617.0</td>\n",
              "      <td>2000.0</td>\n",
              "      <td>36681.0</td>\n",
              "      <td>10000.0</td>\n",
              "      <td>9000.0</td>\n",
              "      <td>689.0</td>\n",
              "      <td>679.0</td>\n",
              "    </tr>\n",
              "  </tbody>\n",
              "</table>\n",
              "</div>"
            ],
            "text/plain": [
              "   LIMIT_BAL  SEX  EDUCATION  MARRIAGE  AGE  PAY_1  BILL_AMT1  PAY_AMT1  \\\n",
              "0    20000.0    2          2         1   24      2     3913.0       0.0   \n",
              "1   120000.0    2          2         2   26     -1     2682.0       0.0   \n",
              "2    90000.0    2          2         2   34      0    29239.0    1518.0   \n",
              "3    50000.0    2          2         1   37      0    46990.0    2000.0   \n",
              "4    50000.0    1          2         1   57     -1     8617.0    2000.0   \n",
              "\n",
              "   PAY_AMT2  PAY_AMT3  PAY_AMT4  PAY_AMT5  PAY_AMT6  \n",
              "0     689.0       0.0       0.0       0.0       0.0  \n",
              "1    1000.0    1000.0    1000.0       0.0    2000.0  \n",
              "2    1500.0    1000.0    1000.0    1000.0    5000.0  \n",
              "3    2019.0    1200.0    1100.0    1069.0    1000.0  \n",
              "4   36681.0   10000.0    9000.0     689.0     679.0  "
            ]
          },
          "execution_count": 18,
          "metadata": {},
          "output_type": "execute_result"
        }
      ],
      "source": [
        "X.head()"
      ]
    },
    {
      "cell_type": "code",
      "execution_count": 19,
      "metadata": {
        "colab": {
          "base_uri": "https://localhost:8080/"
        },
        "id": "olumPgYCCiWn",
        "outputId": "2ff80056-bf68-47d6-c585-1b5031e70fb4"
      },
      "outputs": [
        {
          "data": {
            "text/plain": [
              "0    1\n",
              "1    1\n",
              "2    0\n",
              "3    0\n",
              "4    0\n",
              "Name: Payment, dtype: int64"
            ]
          },
          "execution_count": 19,
          "metadata": {},
          "output_type": "execute_result"
        }
      ],
      "source": [
        "y.head()"
      ]
    },
    {
      "cell_type": "code",
      "execution_count": 20,
      "metadata": {
        "colab": {
          "base_uri": "https://localhost:8080/"
        },
        "id": "gFoObc8QCna3",
        "outputId": "e68ff7cd-5bed-4dc3-c316-3fe02556b871"
      },
      "outputs": [
        {
          "data": {
            "text/plain": [
              "((29965, 13), (29965,))"
            ]
          },
          "execution_count": 20,
          "metadata": {},
          "output_type": "execute_result"
        }
      ],
      "source": [
        "X.shape, y.shape"
      ]
    },
    {
      "cell_type": "code",
      "execution_count": 21,
      "metadata": {
        "id": "lmNz4yiyCnjz"
      },
      "outputs": [],
      "source": [
        "#Train-test split\n",
        "from sklearn.model_selection import train_test_split\n",
        "x_train, x_test, y_train, y_test = train_test_split(X,y, test_size = 0.3, random_state = 42)"
      ]
    },
    {
      "cell_type": "code",
      "execution_count": 22,
      "metadata": {
        "colab": {
          "base_uri": "https://localhost:8080/"
        },
        "id": "z3WtLydMEL2J",
        "outputId": "7bda56e7-13a8-471b-a4ee-bf7c114912c3"
      },
      "outputs": [
        {
          "data": {
            "text/plain": [
              "((20975, 13), (8990, 13))"
            ]
          },
          "execution_count": 22,
          "metadata": {},
          "output_type": "execute_result"
        }
      ],
      "source": [
        "x_train.shape, x_test.shape"
      ]
    },
    {
      "cell_type": "code",
      "execution_count": 23,
      "metadata": {
        "colab": {
          "base_uri": "https://localhost:8080/"
        },
        "id": "1-WXYXbWEL5L",
        "outputId": "fe53e6bd-5df1-4fa8-e500-e122bc684876"
      },
      "outputs": [
        {
          "data": {
            "text/plain": [
              "((20975,), (8990,))"
            ]
          },
          "execution_count": 23,
          "metadata": {},
          "output_type": "execute_result"
        }
      ],
      "source": [
        "y_train.shape, y_test.shape"
      ]
    },
    {
      "cell_type": "code",
      "execution_count": 24,
      "metadata": {
        "id": "w0uEJCIgEMFn"
      },
      "outputs": [],
      "source": [
        "#Scaling features \n",
        "scaler = StandardScaler()"
      ]
    },
    {
      "cell_type": "code",
      "execution_count": 25,
      "metadata": {
        "id": "zbv7ciJMEtxf"
      },
      "outputs": [],
      "source": [
        "x_train = scaler.fit_transform(x_train)\n",
        "x_test = scaler.transform(x_test)"
      ]
    },
    {
      "cell_type": "code",
      "execution_count": null,
      "metadata": {
        "id": "SQoD2C7OEuAi"
      },
      "outputs": [],
      "source": []
    },
    {
      "attachments": {},
      "cell_type": "markdown",
      "metadata": {
        "id": "pWF0vDDMAt5P"
      },
      "source": [
        "### RandomOverSampling Technique\n",
        " - Here we wil use randomoversample method for imbalanced dataset."
      ]
    },
    {
      "cell_type": "code",
      "execution_count": 27,
      "metadata": {
        "id": "2ansZeTI8waA"
      },
      "outputs": [],
      "source": [
        "from imblearn.over_sampling import RandomOverSampler \n",
        "os = RandomOverSampler()"
      ]
    },
    {
      "cell_type": "code",
      "execution_count": 28,
      "metadata": {
        "id": "7ib_MKM68wcp"
      },
      "outputs": [],
      "source": [
        "x_train_os, y_train_os = os.fit_resample(x_train, y_train)"
      ]
    },
    {
      "cell_type": "code",
      "execution_count": 29,
      "metadata": {
        "colab": {
          "base_uri": "https://localhost:8080/"
        },
        "id": "tp6AzgjX8wgb",
        "outputId": "973b2cea-26de-4774-f352-ea44669c7ef8"
      },
      "outputs": [
        {
          "name": "stdout",
          "output_type": "stream",
          "text": [
            "The number of classes before fits: Counter({0: 16357, 1: 4618})\n",
            "The number of classes after fits: Counter({1: 16357, 0: 16357})\n"
          ]
        }
      ],
      "source": [
        "from collections import Counter \n",
        "\n",
        "print(\"The number of classes before fits: {}\".format(Counter(y_train)))\n",
        "print(\"The number of classes after fits: {}\".format(Counter(y_train_os)))"
      ]
    },
    {
      "attachments": {},
      "cell_type": "markdown",
      "metadata": {
        "id": "B3AnG2KqGKPX"
      },
      "source": [
        "### Model Evaluation"
      ]
    },
    {
      "cell_type": "code",
      "execution_count": 30,
      "metadata": {
        "id": "2bYKL9q28wkS"
      },
      "outputs": [],
      "source": [
        "#Creating an evalute function for all the metrics after model training \n",
        "def evaluate_model(true,predicted):\n",
        "  score= accuracy_score(true, predicted)\n",
        "  cm= confusion_matrix(true, predicted)\n",
        "  report= classification_report(true, predicted)\n",
        "  return score, cm, report"
      ]
    },
    {
      "cell_type": "code",
      "execution_count": 31,
      "metadata": {
        "colab": {
          "base_uri": "https://localhost:8080/"
        },
        "id": "hfF90CVG8woV",
        "outputId": "30cf258e-13bc-44fe-a93a-63ed3ba320ee"
      },
      "outputs": [
        {
          "name": "stdout",
          "output_type": "stream",
          "text": [
            "Logistic Regression\n",
            "Model performance for Training set\n",
            "- Accuracy Score: 0.6723\n",
            "- Confusion Matrix: \n",
            " [[11548  4809]\n",
            " [ 5910 10447]]\n",
            "- Classification Report: \n",
            "               precision    recall  f1-score   support\n",
            "\n",
            "           0       0.66      0.71      0.68     16357\n",
            "           1       0.68      0.64      0.66     16357\n",
            "\n",
            "    accuracy                           0.67     32714\n",
            "   macro avg       0.67      0.67      0.67     32714\n",
            "weighted avg       0.67      0.67      0.67     32714\n",
            "\n",
            "========================================\n",
            "Model performance for Test set\n",
            "- Accuracy Score: 0.6911\n",
            "- Confusion Matrix: \n",
            " [[4979 1999]\n",
            " [ 778 1234]]\n",
            "- Classification Report: \n",
            "               precision    recall  f1-score   support\n",
            "\n",
            "           0       0.86      0.71      0.78      6978\n",
            "           1       0.38      0.61      0.47      2012\n",
            "\n",
            "    accuracy                           0.69      8990\n",
            "   macro avg       0.62      0.66      0.63      8990\n",
            "weighted avg       0.76      0.69      0.71      8990\n",
            "\n",
            "===================================\n",
            "\n",
            "\n",
            "K-Neighbors Classifier\n",
            "Model performance for Training set\n",
            "- Accuracy Score: 0.8519\n",
            "- Confusion Matrix: \n",
            " [[12334  4023]\n",
            " [  823 15534]]\n",
            "- Classification Report: \n",
            "               precision    recall  f1-score   support\n",
            "\n",
            "           0       0.94      0.75      0.84     16357\n",
            "           1       0.79      0.95      0.87     16357\n",
            "\n",
            "    accuracy                           0.85     32714\n",
            "   macro avg       0.87      0.85      0.85     32714\n",
            "weighted avg       0.87      0.85      0.85     32714\n",
            "\n",
            "========================================\n",
            "Model performance for Test set\n",
            "- Accuracy Score: 0.6705\n",
            "- Confusion Matrix: \n",
            " [[4834 2144]\n",
            " [ 818 1194]]\n",
            "- Classification Report: \n",
            "               precision    recall  f1-score   support\n",
            "\n",
            "           0       0.86      0.69      0.77      6978\n",
            "           1       0.36      0.59      0.45      2012\n",
            "\n",
            "    accuracy                           0.67      8990\n",
            "   macro avg       0.61      0.64      0.61      8990\n",
            "weighted avg       0.74      0.67      0.69      8990\n",
            "\n",
            "===================================\n",
            "\n",
            "\n",
            "Support Vector Machine\n",
            "Model performance for Training set\n",
            "- Accuracy Score: 0.7161\n",
            "- Confusion Matrix: \n",
            " [[13441  2916]\n",
            " [ 6373  9984]]\n",
            "- Classification Report: \n",
            "               precision    recall  f1-score   support\n",
            "\n",
            "           0       0.68      0.82      0.74     16357\n",
            "           1       0.77      0.61      0.68     16357\n",
            "\n",
            "    accuracy                           0.72     32714\n",
            "   macro avg       0.73      0.72      0.71     32714\n",
            "weighted avg       0.73      0.72      0.71     32714\n",
            "\n",
            "========================================\n",
            "Model performance for Test set\n",
            "- Accuracy Score: 0.7666\n",
            "- Confusion Matrix: \n",
            " [[5792 1186]\n",
            " [ 912 1100]]\n",
            "- Classification Report: \n",
            "               precision    recall  f1-score   support\n",
            "\n",
            "           0       0.86      0.83      0.85      6978\n",
            "           1       0.48      0.55      0.51      2012\n",
            "\n",
            "    accuracy                           0.77      8990\n",
            "   macro avg       0.67      0.69      0.68      8990\n",
            "weighted avg       0.78      0.77      0.77      8990\n",
            "\n",
            "===================================\n",
            "\n",
            "\n",
            "Random Forest Classifier\n",
            "Model performance for Training set\n",
            "- Accuracy Score: 0.9996\n",
            "- Confusion Matrix: \n",
            " [[16343    14]\n",
            " [    0 16357]]\n",
            "- Classification Report: \n",
            "               precision    recall  f1-score   support\n",
            "\n",
            "           0       1.00      1.00      1.00     16357\n",
            "           1       1.00      1.00      1.00     16357\n",
            "\n",
            "    accuracy                           1.00     32714\n",
            "   macro avg       1.00      1.00      1.00     32714\n",
            "weighted avg       1.00      1.00      1.00     32714\n",
            "\n",
            "========================================\n",
            "Model performance for Test set\n",
            "- Accuracy Score: 0.8123\n",
            "- Confusion Matrix: \n",
            " [[6509  469]\n",
            " [1218  794]]\n",
            "- Classification Report: \n",
            "               precision    recall  f1-score   support\n",
            "\n",
            "           0       0.84      0.93      0.89      6978\n",
            "           1       0.63      0.39      0.48      2012\n",
            "\n",
            "    accuracy                           0.81      8990\n",
            "   macro avg       0.74      0.66      0.69      8990\n",
            "weighted avg       0.79      0.81      0.80      8990\n",
            "\n",
            "===================================\n",
            "\n",
            "\n",
            "Decision Tree Classifier\n",
            "Model performance for Training set\n",
            "- Accuracy Score: 0.9996\n",
            "- Confusion Matrix: \n",
            " [[16343    14]\n",
            " [    0 16357]]\n",
            "- Classification Report: \n",
            "               precision    recall  f1-score   support\n",
            "\n",
            "           0       1.00      1.00      1.00     16357\n",
            "           1       1.00      1.00      1.00     16357\n",
            "\n",
            "    accuracy                           1.00     32714\n",
            "   macro avg       1.00      1.00      1.00     32714\n",
            "weighted avg       1.00      1.00      1.00     32714\n",
            "\n",
            "========================================\n",
            "Model performance for Test set\n",
            "- Accuracy Score: 0.7297\n",
            "- Confusion Matrix: \n",
            " [[5793 1185]\n",
            " [1245  767]]\n",
            "- Classification Report: \n",
            "               precision    recall  f1-score   support\n",
            "\n",
            "           0       0.82      0.83      0.83      6978\n",
            "           1       0.39      0.38      0.39      2012\n",
            "\n",
            "    accuracy                           0.73      8990\n",
            "   macro avg       0.61      0.61      0.61      8990\n",
            "weighted avg       0.73      0.73      0.73      8990\n",
            "\n",
            "===================================\n",
            "\n",
            "\n",
            "XGBoost Classifier\n",
            "Model performance for Training set\n",
            "- Accuracy Score: 0.8800\n",
            "- Confusion Matrix: \n",
            " [[14280  2077]\n",
            " [ 1848 14509]]\n",
            "- Classification Report: \n",
            "               precision    recall  f1-score   support\n",
            "\n",
            "           0       0.89      0.87      0.88     16357\n",
            "           1       0.87      0.89      0.88     16357\n",
            "\n",
            "    accuracy                           0.88     32714\n",
            "   macro avg       0.88      0.88      0.88     32714\n",
            "weighted avg       0.88      0.88      0.88     32714\n",
            "\n",
            "========================================\n",
            "Model performance for Test set\n",
            "- Accuracy Score: 0.7575\n",
            "- Confusion Matrix: \n",
            " [[5681 1297]\n",
            " [ 883 1129]]\n",
            "- Classification Report: \n",
            "               precision    recall  f1-score   support\n",
            "\n",
            "           0       0.87      0.81      0.84      6978\n",
            "           1       0.47      0.56      0.51      2012\n",
            "\n",
            "    accuracy                           0.76      8990\n",
            "   macro avg       0.67      0.69      0.67      8990\n",
            "weighted avg       0.78      0.76      0.77      8990\n",
            "\n",
            "===================================\n",
            "\n",
            "\n",
            "AdaBoost Classifier\n",
            "Model performance for Training set\n",
            "- Accuracy Score: 0.7013\n",
            "- Confusion Matrix: \n",
            " [[12953  3404]\n",
            " [ 6369  9988]]\n",
            "- Classification Report: \n",
            "               precision    recall  f1-score   support\n",
            "\n",
            "           0       0.67      0.79      0.73     16357\n",
            "           1       0.75      0.61      0.67     16357\n",
            "\n",
            "    accuracy                           0.70     32714\n",
            "   macro avg       0.71      0.70      0.70     32714\n",
            "weighted avg       0.71      0.70      0.70     32714\n",
            "\n",
            "========================================\n",
            "Model performance for Test set\n",
            "- Accuracy Score: 0.7472\n",
            "- Confusion Matrix: \n",
            " [[5548 1430]\n",
            " [ 843 1169]]\n",
            "- Classification Report: \n",
            "               precision    recall  f1-score   support\n",
            "\n",
            "           0       0.87      0.80      0.83      6978\n",
            "           1       0.45      0.58      0.51      2012\n",
            "\n",
            "    accuracy                           0.75      8990\n",
            "   macro avg       0.66      0.69      0.67      8990\n",
            "weighted avg       0.77      0.75      0.76      8990\n",
            "\n",
            "===================================\n",
            "\n",
            "\n"
          ]
        }
      ],
      "source": [
        "models = {\n",
        "    \"Logistic Regression\": LogisticRegression(),\n",
        "    \"K-Neighbors Classifier\": KNeighborsClassifier(),\n",
        "    \"Support Vector Machine\": SVC(),\n",
        "    \"Random Forest Classifier\": RandomForestClassifier(),\n",
        "    \"Decision Tree Classifier\": DecisionTreeClassifier(), \n",
        "    \"XGBoost Classifier\": XGBClassifier(),\n",
        "    \"AdaBoost Classifier\": AdaBoostClassifier()\n",
        "}\n",
        "\n",
        "\n",
        "model_list = []\n",
        "scores =[]\n",
        "\n",
        "for i in range(len(list(models))):\n",
        "    model = list(models.values())[i]\n",
        "    model.fit(x_train_os, y_train_os) # Train model\n",
        "\n",
        "    # Make predictions\n",
        "    y_train_pred = model.predict(x_train_os)\n",
        "    y_test_pred = model.predict(x_test)\n",
        "    \n",
        "    # Evaluate Train and Test dataset\n",
        "    model_train_score , model_train_cm, model_train_report = evaluate_model(y_train_os, y_train_pred)\n",
        "\n",
        "    model_test_score , model_test_cm, model_test_report = evaluate_model(y_test, y_test_pred)\n",
        "\n",
        "    \n",
        "    print(list(models.keys())[i])\n",
        "    model_list.append(list(models.keys())[i])\n",
        "    \n",
        "    print('Model performance for Training set')\n",
        "    print(\"- Accuracy Score: {:.4f}\".format(model_train_score))\n",
        "    print(\"- Confusion Matrix: \\n\",model_train_cm)\n",
        "    print(\"- Classification Report: \\n\",model_train_report)\n",
        "\n",
        "    print('='*40)\n",
        "    \n",
        "    print('Model performance for Test set')\n",
        "    print(\"- Accuracy Score: {:.4f}\".format(model_test_score))\n",
        "    print(\"- Confusion Matrix: \\n\",model_test_cm)\n",
        "    print(\"- Classification Report: \\n\",model_test_report)\n",
        "\n",
        "    scores.append(model_test_score)\n",
        "    \n",
        "    print('='*35)\n",
        "    print('\\n')"
      ]
    },
    {
      "cell_type": "code",
      "execution_count": null,
      "metadata": {
        "id": "AWOtfwiw8ws2"
      },
      "outputs": [],
      "source": []
    },
    {
      "attachments": {},
      "cell_type": "markdown",
      "metadata": {
        "id": "m3imrNiFIMLD"
      },
      "source": [
        "### Results"
      ]
    },
    {
      "cell_type": "code",
      "execution_count": 32,
      "metadata": {
        "colab": {
          "base_uri": "https://localhost:8080/",
          "height": 269
        },
        "id": "66NiDZjC8wwb",
        "outputId": "4a5ed1bb-dc8b-4f5c-8b95-ed4a506568aa"
      },
      "outputs": [
        {
          "data": {
            "text/html": [
              "<div>\n",
              "<style scoped>\n",
              "    .dataframe tbody tr th:only-of-type {\n",
              "        vertical-align: middle;\n",
              "    }\n",
              "\n",
              "    .dataframe tbody tr th {\n",
              "        vertical-align: top;\n",
              "    }\n",
              "\n",
              "    .dataframe thead th {\n",
              "        text-align: right;\n",
              "    }\n",
              "</style>\n",
              "<table border=\"1\" class=\"dataframe\">\n",
              "  <thead>\n",
              "    <tr style=\"text-align: right;\">\n",
              "      <th></th>\n",
              "      <th>Model Name</th>\n",
              "      <th>Scores</th>\n",
              "    </tr>\n",
              "  </thead>\n",
              "  <tbody>\n",
              "    <tr>\n",
              "      <th>3</th>\n",
              "      <td>Random Forest Classifier</td>\n",
              "      <td>0.812347</td>\n",
              "    </tr>\n",
              "    <tr>\n",
              "      <th>2</th>\n",
              "      <td>Support Vector Machine</td>\n",
              "      <td>0.766630</td>\n",
              "    </tr>\n",
              "    <tr>\n",
              "      <th>5</th>\n",
              "      <td>XGBoost Classifier</td>\n",
              "      <td>0.757508</td>\n",
              "    </tr>\n",
              "    <tr>\n",
              "      <th>6</th>\n",
              "      <td>AdaBoost Classifier</td>\n",
              "      <td>0.747164</td>\n",
              "    </tr>\n",
              "    <tr>\n",
              "      <th>4</th>\n",
              "      <td>Decision Tree Classifier</td>\n",
              "      <td>0.729700</td>\n",
              "    </tr>\n",
              "    <tr>\n",
              "      <th>0</th>\n",
              "      <td>Logistic Regression</td>\n",
              "      <td>0.691101</td>\n",
              "    </tr>\n",
              "    <tr>\n",
              "      <th>1</th>\n",
              "      <td>K-Neighbors Classifier</td>\n",
              "      <td>0.670523</td>\n",
              "    </tr>\n",
              "  </tbody>\n",
              "</table>\n",
              "</div>"
            ],
            "text/plain": [
              "                 Model Name    Scores\n",
              "3  Random Forest Classifier  0.812347\n",
              "2    Support Vector Machine  0.766630\n",
              "5        XGBoost Classifier  0.757508\n",
              "6       AdaBoost Classifier  0.747164\n",
              "4  Decision Tree Classifier  0.729700\n",
              "0       Logistic Regression  0.691101\n",
              "1    K-Neighbors Classifier  0.670523"
            ]
          },
          "execution_count": 32,
          "metadata": {},
          "output_type": "execute_result"
        }
      ],
      "source": [
        "pd.DataFrame(list(zip(model_list, scores)), columns=['Model Name', 'Scores']).sort_values(by=[\"Scores\"],ascending=False)"
      ]
    },
    {
      "cell_type": "code",
      "execution_count": 33,
      "metadata": {
        "id": "X8FrByVpIN4c"
      },
      "outputs": [],
      "source": [
        "#RandomForest Classifier gives good accuracy than other models "
      ]
    },
    {
      "cell_type": "code",
      "execution_count": null,
      "metadata": {
        "id": "D95iovrZIN8K"
      },
      "outputs": [],
      "source": []
    },
    {
      "attachments": {},
      "cell_type": "markdown",
      "metadata": {
        "id": "Xh72iu0IJclo"
      },
      "source": [
        "### Hyperparameter Tunning"
      ]
    },
    {
      "cell_type": "code",
      "execution_count": 34,
      "metadata": {
        "colab": {
          "base_uri": "https://localhost:8080/"
        },
        "id": "kN0_dNJ4IN_9",
        "outputId": "43391670-5e3d-401c-e839-e0adbcfbd65c"
      },
      "outputs": [
        {
          "name": "stdout",
          "output_type": "stream",
          "text": [
            "{'n_estimators': [100, 147, 194, 242, 289, 336, 384, 431, 478, 526, 573, 621, 668, 715, 763, 810, 857, 905, 952, 1000], 'max_features': ['auto', 'sqrt'], 'max_depth': [0, 17, 35, 52, 70, None], 'min_samples_split': [2, 3, 4, 5, 6], 'min_samples_leaf': [1, 2, 4], 'bootstrap': [True, False]}\n"
          ]
        }
      ],
      "source": [
        "# Number of trees in random forest\n",
        "n_estimators = [int(x) for x in np.linspace(start = 100, stop = 1000, num = 20)]\n",
        "# Number of features to consider at every split\n",
        "max_features = ['auto', 'sqrt']\n",
        "# Maximum number of levels in tree\n",
        "max_depth = [int(x) for x in np.linspace(0, 70, num = 5)]\n",
        "max_depth.append(None)\n",
        "# Minimum number of samples required to split a node\n",
        "min_samples_split = [2, 3,4,5,6]\n",
        "# Minimum number of samples required at each leaf node\n",
        "min_samples_leaf = [1, 2, 4]\n",
        "# Method of selecting samples for training each tree\n",
        "bootstrap = [True, False]\n",
        "# Create the random grid\n",
        "random_grid = {'n_estimators': n_estimators,\n",
        "               'max_features': max_features,\n",
        "               'max_depth': max_depth,\n",
        "               'min_samples_split': min_samples_split,\n",
        "               'min_samples_leaf': min_samples_leaf,\n",
        "               'bootstrap': bootstrap}\n",
        "print(random_grid)"
      ]
    },
    {
      "cell_type": "code",
      "execution_count": 35,
      "metadata": {
        "id": "O67ACL4yIOEN"
      },
      "outputs": [],
      "source": [
        "#RandomForest Classifier\n",
        "forest= RandomForestClassifier()\n",
        "\n",
        "rf_random = RandomizedSearchCV(estimator = forest, param_distributions = random_grid, n_iter = 30, cv = 3, \n",
        "                               scoring='accuracy',verbose=2, random_state=42, n_jobs = -1, )"
      ]
    },
    {
      "cell_type": "code",
      "execution_count": 36,
      "metadata": {
        "colab": {
          "base_uri": "https://localhost:8080/",
          "height": 135
        },
        "id": "605PCMvdJlsz",
        "outputId": "db929e93-845a-4604-f181-4edd9b82510e"
      },
      "outputs": [
        {
          "name": "stdout",
          "output_type": "stream",
          "text": [
            "Fitting 3 folds for each of 30 candidates, totalling 90 fits\n"
          ]
        },
        {
          "data": {
            "text/html": [
              "<style>#sk-container-id-1 {color: black;background-color: white;}#sk-container-id-1 pre{padding: 0;}#sk-container-id-1 div.sk-toggleable {background-color: white;}#sk-container-id-1 label.sk-toggleable__label {cursor: pointer;display: block;width: 100%;margin-bottom: 0;padding: 0.3em;box-sizing: border-box;text-align: center;}#sk-container-id-1 label.sk-toggleable__label-arrow:before {content: \"▸\";float: left;margin-right: 0.25em;color: #696969;}#sk-container-id-1 label.sk-toggleable__label-arrow:hover:before {color: black;}#sk-container-id-1 div.sk-estimator:hover label.sk-toggleable__label-arrow:before {color: black;}#sk-container-id-1 div.sk-toggleable__content {max-height: 0;max-width: 0;overflow: hidden;text-align: left;background-color: #f0f8ff;}#sk-container-id-1 div.sk-toggleable__content pre {margin: 0.2em;color: black;border-radius: 0.25em;background-color: #f0f8ff;}#sk-container-id-1 input.sk-toggleable__control:checked~div.sk-toggleable__content {max-height: 200px;max-width: 100%;overflow: auto;}#sk-container-id-1 input.sk-toggleable__control:checked~label.sk-toggleable__label-arrow:before {content: \"▾\";}#sk-container-id-1 div.sk-estimator input.sk-toggleable__control:checked~label.sk-toggleable__label {background-color: #d4ebff;}#sk-container-id-1 div.sk-label input.sk-toggleable__control:checked~label.sk-toggleable__label {background-color: #d4ebff;}#sk-container-id-1 input.sk-hidden--visually {border: 0;clip: rect(1px 1px 1px 1px);clip: rect(1px, 1px, 1px, 1px);height: 1px;margin: -1px;overflow: hidden;padding: 0;position: absolute;width: 1px;}#sk-container-id-1 div.sk-estimator {font-family: monospace;background-color: #f0f8ff;border: 1px dotted black;border-radius: 0.25em;box-sizing: border-box;margin-bottom: 0.5em;}#sk-container-id-1 div.sk-estimator:hover {background-color: #d4ebff;}#sk-container-id-1 div.sk-parallel-item::after {content: \"\";width: 100%;border-bottom: 1px solid gray;flex-grow: 1;}#sk-container-id-1 div.sk-label:hover label.sk-toggleable__label {background-color: #d4ebff;}#sk-container-id-1 div.sk-serial::before {content: \"\";position: absolute;border-left: 1px solid gray;box-sizing: border-box;top: 0;bottom: 0;left: 50%;z-index: 0;}#sk-container-id-1 div.sk-serial {display: flex;flex-direction: column;align-items: center;background-color: white;padding-right: 0.2em;padding-left: 0.2em;position: relative;}#sk-container-id-1 div.sk-item {position: relative;z-index: 1;}#sk-container-id-1 div.sk-parallel {display: flex;align-items: stretch;justify-content: center;background-color: white;position: relative;}#sk-container-id-1 div.sk-item::before, #sk-container-id-1 div.sk-parallel-item::before {content: \"\";position: absolute;border-left: 1px solid gray;box-sizing: border-box;top: 0;bottom: 0;left: 50%;z-index: -1;}#sk-container-id-1 div.sk-parallel-item {display: flex;flex-direction: column;z-index: 1;position: relative;background-color: white;}#sk-container-id-1 div.sk-parallel-item:first-child::after {align-self: flex-end;width: 50%;}#sk-container-id-1 div.sk-parallel-item:last-child::after {align-self: flex-start;width: 50%;}#sk-container-id-1 div.sk-parallel-item:only-child::after {width: 0;}#sk-container-id-1 div.sk-dashed-wrapped {border: 1px dashed gray;margin: 0 0.4em 0.5em 0.4em;box-sizing: border-box;padding-bottom: 0.4em;background-color: white;}#sk-container-id-1 div.sk-label label {font-family: monospace;font-weight: bold;display: inline-block;line-height: 1.2em;}#sk-container-id-1 div.sk-label-container {text-align: center;}#sk-container-id-1 div.sk-container {/* jupyter's `normalize.less` sets `[hidden] { display: none; }` but bootstrap.min.css set `[hidden] { display: none !important; }` so we also need the `!important` here to be able to override the default hidden behavior on the sphinx rendered scikit-learn.org. See: https://github.com/scikit-learn/scikit-learn/issues/21755 */display: inline-block !important;position: relative;}#sk-container-id-1 div.sk-text-repr-fallback {display: none;}</style><div id=\"sk-container-id-1\" class=\"sk-top-container\"><div class=\"sk-text-repr-fallback\"><pre>RandomizedSearchCV(cv=3, estimator=RandomForestClassifier(), n_iter=30,\n",
              "                   n_jobs=-1,\n",
              "                   param_distributions={&#x27;bootstrap&#x27;: [True, False],\n",
              "                                        &#x27;max_depth&#x27;: [0, 17, 35, 52, 70, None],\n",
              "                                        &#x27;max_features&#x27;: [&#x27;auto&#x27;, &#x27;sqrt&#x27;],\n",
              "                                        &#x27;min_samples_leaf&#x27;: [1, 2, 4],\n",
              "                                        &#x27;min_samples_split&#x27;: [2, 3, 4, 5, 6],\n",
              "                                        &#x27;n_estimators&#x27;: [100, 147, 194, 242,\n",
              "                                                         289, 336, 384, 431,\n",
              "                                                         478, 526, 573, 621,\n",
              "                                                         668, 715, 763, 810,\n",
              "                                                         857, 905, 952, 1000]},\n",
              "                   random_state=42, scoring=&#x27;accuracy&#x27;, verbose=2)</pre><b>In a Jupyter environment, please rerun this cell to show the HTML representation or trust the notebook. <br />On GitHub, the HTML representation is unable to render, please try loading this page with nbviewer.org.</b></div><div class=\"sk-container\" hidden><div class=\"sk-item sk-dashed-wrapped\"><div class=\"sk-label-container\"><div class=\"sk-label sk-toggleable\"><input class=\"sk-toggleable__control sk-hidden--visually\" id=\"sk-estimator-id-1\" type=\"checkbox\" ><label for=\"sk-estimator-id-1\" class=\"sk-toggleable__label sk-toggleable__label-arrow\">RandomizedSearchCV</label><div class=\"sk-toggleable__content\"><pre>RandomizedSearchCV(cv=3, estimator=RandomForestClassifier(), n_iter=30,\n",
              "                   n_jobs=-1,\n",
              "                   param_distributions={&#x27;bootstrap&#x27;: [True, False],\n",
              "                                        &#x27;max_depth&#x27;: [0, 17, 35, 52, 70, None],\n",
              "                                        &#x27;max_features&#x27;: [&#x27;auto&#x27;, &#x27;sqrt&#x27;],\n",
              "                                        &#x27;min_samples_leaf&#x27;: [1, 2, 4],\n",
              "                                        &#x27;min_samples_split&#x27;: [2, 3, 4, 5, 6],\n",
              "                                        &#x27;n_estimators&#x27;: [100, 147, 194, 242,\n",
              "                                                         289, 336, 384, 431,\n",
              "                                                         478, 526, 573, 621,\n",
              "                                                         668, 715, 763, 810,\n",
              "                                                         857, 905, 952, 1000]},\n",
              "                   random_state=42, scoring=&#x27;accuracy&#x27;, verbose=2)</pre></div></div></div><div class=\"sk-parallel\"><div class=\"sk-parallel-item\"><div class=\"sk-item\"><div class=\"sk-label-container\"><div class=\"sk-label sk-toggleable\"><input class=\"sk-toggleable__control sk-hidden--visually\" id=\"sk-estimator-id-2\" type=\"checkbox\" ><label for=\"sk-estimator-id-2\" class=\"sk-toggleable__label sk-toggleable__label-arrow\">estimator: RandomForestClassifier</label><div class=\"sk-toggleable__content\"><pre>RandomForestClassifier()</pre></div></div></div><div class=\"sk-serial\"><div class=\"sk-item\"><div class=\"sk-estimator sk-toggleable\"><input class=\"sk-toggleable__control sk-hidden--visually\" id=\"sk-estimator-id-3\" type=\"checkbox\" ><label for=\"sk-estimator-id-3\" class=\"sk-toggleable__label sk-toggleable__label-arrow\">RandomForestClassifier</label><div class=\"sk-toggleable__content\"><pre>RandomForestClassifier()</pre></div></div></div></div></div></div></div></div></div></div>"
            ],
            "text/plain": [
              "RandomizedSearchCV(cv=3, estimator=RandomForestClassifier(), n_iter=30,\n",
              "                   n_jobs=-1,\n",
              "                   param_distributions={'bootstrap': [True, False],\n",
              "                                        'max_depth': [0, 17, 35, 52, 70, None],\n",
              "                                        'max_features': ['auto', 'sqrt'],\n",
              "                                        'min_samples_leaf': [1, 2, 4],\n",
              "                                        'min_samples_split': [2, 3, 4, 5, 6],\n",
              "                                        'n_estimators': [100, 147, 194, 242,\n",
              "                                                         289, 336, 384, 431,\n",
              "                                                         478, 526, 573, 621,\n",
              "                                                         668, 715, 763, 810,\n",
              "                                                         857, 905, 952, 1000]},\n",
              "                   random_state=42, scoring='accuracy', verbose=2)"
            ]
          },
          "execution_count": 36,
          "metadata": {},
          "output_type": "execute_result"
        }
      ],
      "source": [
        "# Fit the random search model\n",
        "rf_random.fit(x_train_os, y_train_os)"
      ]
    },
    {
      "cell_type": "code",
      "execution_count": 37,
      "metadata": {
        "colab": {
          "base_uri": "https://localhost:8080/"
        },
        "id": "BIzVWILTJlwo",
        "outputId": "f26ecb5c-81b6-44fa-bb5a-567b11441bec"
      },
      "outputs": [
        {
          "data": {
            "text/plain": [
              "{'n_estimators': 763,\n",
              " 'min_samples_split': 3,\n",
              " 'min_samples_leaf': 1,\n",
              " 'max_features': 'sqrt',\n",
              " 'max_depth': 52,\n",
              " 'bootstrap': False}"
            ]
          },
          "execution_count": 37,
          "metadata": {},
          "output_type": "execute_result"
        }
      ],
      "source": [
        "rf_random.best_params_"
      ]
    },
    {
      "cell_type": "code",
      "execution_count": 38,
      "metadata": {
        "colab": {
          "base_uri": "https://localhost:8080/"
        },
        "id": "7tbeu4SXJl1T",
        "outputId": "b0cc8f77-dc3d-430f-ae93-3709643d30b5"
      },
      "outputs": [
        {
          "data": {
            "text/plain": [
              "0.9509080288209081"
            ]
          },
          "execution_count": 38,
          "metadata": {},
          "output_type": "execute_result"
        }
      ],
      "source": [
        "rf_random.best_score_"
      ]
    },
    {
      "cell_type": "code",
      "execution_count": 39,
      "metadata": {
        "id": "STl3Z9VYJl6J"
      },
      "outputs": [],
      "source": [
        "rf_predict = rf_random.predict(x_test)"
      ]
    },
    {
      "cell_type": "code",
      "execution_count": 40,
      "metadata": {
        "colab": {
          "base_uri": "https://localhost:8080/"
        },
        "id": "Usstxyu9Jl-H",
        "outputId": "6b6b5427-ca38-4010-f68f-9c6bdb06d093"
      },
      "outputs": [
        {
          "data": {
            "text/plain": [
              "0.8149054505005562"
            ]
          },
          "execution_count": 40,
          "metadata": {},
          "output_type": "execute_result"
        }
      ],
      "source": [
        "accuracy_score(y_test, rf_predict)"
      ]
    },
    {
      "cell_type": "code",
      "execution_count": 41,
      "metadata": {
        "colab": {
          "base_uri": "https://localhost:8080/"
        },
        "id": "koIFdWTDwJXu",
        "outputId": "f800953c-8029-47ed-96dd-9b9555b3209b"
      },
      "outputs": [
        {
          "data": {
            "text/plain": [
              "array([[6656,  322],\n",
              "       [1342,  670]], dtype=int64)"
            ]
          },
          "execution_count": 41,
          "metadata": {},
          "output_type": "execute_result"
        }
      ],
      "source": [
        "confusion_matrix(y_test, rf_predict)"
      ]
    },
    {
      "cell_type": "code",
      "execution_count": 42,
      "metadata": {
        "colab": {
          "base_uri": "https://localhost:8080/"
        },
        "id": "MC78wlPbwPcw",
        "outputId": "e913eff1-b278-4f7c-a470-1175790abebd"
      },
      "outputs": [
        {
          "name": "stdout",
          "output_type": "stream",
          "text": [
            "              precision    recall  f1-score   support\n",
            "\n",
            "           0       0.83      0.95      0.89      6978\n",
            "           1       0.68      0.33      0.45      2012\n",
            "\n",
            "    accuracy                           0.81      8990\n",
            "   macro avg       0.75      0.64      0.67      8990\n",
            "weighted avg       0.80      0.81      0.79      8990\n",
            "\n"
          ]
        }
      ],
      "source": [
        "print(classification_report(y_test, rf_predict))"
      ]
    },
    {
      "cell_type": "code",
      "execution_count": 43,
      "metadata": {
        "id": "GHOdR3iTJmEB"
      },
      "outputs": [],
      "source": [
        "from sklearn.metrics import roc_curve, roc_auc_score\n",
        "y_pred_proba= rf_random.predict_proba(x_test)[::,1]\n",
        "fpr, tpr,_= roc_curve(y_test, y_pred_proba)\n",
        "auc_score= roc_auc_score(y_test, y_pred_proba)"
      ]
    },
    {
      "cell_type": "code",
      "execution_count": 44,
      "metadata": {
        "colab": {
          "base_uri": "https://localhost:8080/",
          "height": 718
        },
        "id": "WVevrl9OJmJD",
        "outputId": "52533152-f8b2-4c20-b43d-1abb4e23520f"
      },
      "outputs": [
        {
          "data": {
            "image/png": "[encoded data removed]",
            "text/plain": [
              "<Figure size 1000x800 with 1 Axes>"
            ]
          },
          "metadata": {},
          "output_type": "display_data"
        }
      ],
      "source": [
        "plt.figure(figsize=(10, 8))\n",
        "plt.plot(fpr, tpr)\n",
        "plt.plot([0,1], [0,1], 'r--')\n",
        "plt.xlabel(\"False Positive Rate\")\n",
        "plt.ylabel('True Positive Rate')\n",
        "plt.title(\"AUC-ROC-Curve\")\n",
        "plt.show()"
      ]
    },
    {
      "cell_type": "code",
      "execution_count": 47,
      "metadata": {
        "colab": {
          "base_uri": "https://localhost:8080/"
        },
        "id": "BoxII_XcJmSN",
        "outputId": "586b079a-03de-49a3-d214-26c81568f87a"
      },
      "outputs": [
        {
          "name": "stdout",
          "output_type": "stream",
          "text": [
            "Not default\n"
          ]
        }
      ],
      "source": [
        "input_data = (-1.1355123246073677,1,1,2,-1.244324652307965,0,-0.4849654557394294,-0.1478490176807232,-0.25530939085407756,-0.21036893766203657,-0.3073466366887242,-0.20631337304146,-0.29344381171848527)\n",
        "\n",
        "# Reshape the input data to a 2D array with a single row\n",
        "input_data_reshaped = np.reshape(input_data, (1, -1))\n",
        "\n",
        "# Make a prediction on the reshaped input data\n",
        "prediction = rf_random.predict(input_data_reshaped)\n",
        "\n",
        "# Check the predicted value and print the corresponding label\n",
        "if prediction[0] == 0:\n",
        "    print('Not default')\n",
        "else:\n",
        "    print('Default')"
      ]
    },
    {
      "cell_type": "code",
      "execution_count": null,
      "metadata": {
        "id": "dzhWw_wGRpTB"
      },
      "outputs": [],
      "source": []
    },
    {
      "cell_type": "code",
      "execution_count": null,
      "metadata": {
        "id": "pbBITYCERpY_"
      },
      "outputs": [],
      "source": []
    },
    {
      "cell_type": "code",
      "execution_count": null,
      "metadata": {
        "id": "l0bJJ83zRpcp"
      },
      "outputs": [],
      "source": []
    }
  ],
  "metadata": {
    "colab": {
      "provenance": []
    },
    "kernelspec": {
      "display_name": "Python 3",
      "name": "python3"
    },
    "language_info": {
      "codemirror_mode": {
        "name": "ipython",
        "version": 3
      },
      "file_extension": ".py",
      "mimetype": "text/x-python",
      "name": "python",
      "nbconvert_exporter": "python",
      "pygments_lexer": "ipython3",
      "version": "3.8.0"
    }
  },
  "nbformat": 4,
  "nbformat_minor": 0
}
